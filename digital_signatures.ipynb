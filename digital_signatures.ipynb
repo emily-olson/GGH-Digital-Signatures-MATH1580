{
  "metadata": {
    "kernelspec": {
      "name": "xpython",
      "display_name": "Python 3.13 (XPython)",
      "language": "python"
    },
    "language_info": {
      "file_extension": ".py",
      "mimetype": "text/x-python",
      "name": "python",
      "version": "3.13.1"
    }
  },
  "nbformat_minor": 5,
  "nbformat": 4,
  "cells": [
    {
      "id": "21b288de-d44f-4f64-b486-d151ffe1795f",
      "cell_type": "code",
      "source": "#!/usr/bin/env python\n# coding: utf-8\n\n# creates a basis of a specified dimension that obeys a hadamard bound\ndef create_good_basis(n,B,hadamard_bound):\n    while True:\n        basis = random_matrix(ZZ, n, x=-B, y=B) #generate a random basis from Sage\n        if hadamard_ratio(basis,n) > hadamard_bound:\n            return basis",
      "metadata": {
        "trusted": true
      },
      "outputs": [],
      "execution_count": null
    },
    {
      "id": "146fd714-7e96-4076-b8b9-41aa369c50ee",
      "cell_type": "code",
      "source": "\n# calculate the hadamard ratio of a basis of dimension n\ndef hadamard_ratio(L,n): \n    ratio = abs(det(matrix((L))))\n    for v in L:\n        ratio = ratio/norm(vector(v))\n    return ratio**(1/n)\n    ",
      "metadata": {
        "trusted": true
      },
      "outputs": [],
      "execution_count": null
    },
    {
      "id": "43b50c11-c7c8-4ee2-a862-fc67eb5d5472",
      "cell_type": "code",
      "source": "\n# applies a change of basis matrix to a given good basis\ndef create_bad_basis(n, b_priv,B, num_ops):\n    b_priv = matrix(b_priv)\n    COB = create_COB(n,num_ops,B)\n    return COB*b_priv\n\n\n# creates a change of basis matrix by performing random elementary row operations on an identity matrix of dimension n\ndef create_COB(n,num_ops,B):\n    id = identity_matrix(ZZ,n)\n    for x in range(num_ops):\n        i = randrange(n)\n        j = randrange(n)\n        if i != j:\n            id[i] = id[i] + id[j] * randrange(-B,B)\n    return id \n",
      "metadata": {
        "trusted": true
      },
      "outputs": [],
      "execution_count": null
    },
    {
      "id": "21928c80-417d-4134-9cf1-2dbbc77f0cce",
      "cell_type": "code",
      "source": "\n# babai's algorithm that approx. solves the cvp by rounding the linear coordinates of the given vector in the given basis. uses a helper function round_coords to round each entry. \ndef babai(basis, vector):\n    t = express_v_in_basis(basis,vector)\n    t = list(list(t)[0])\n    \n    tr = round_coords(t)\n    tr = matrix(tr)\n   \n    vectorp = tr * matrix(basis)\n    return list(list(vectorp)[0]) #returns the solution to the cvp\n\ndef round_coords(w):\n    return [round(ti) for ti in w]\n\n\n#helper function to subtract vectors\ndef subtract_vectors(v1, v2):\n    v1 = matrix(v1)\n    v2 = matrix(v2)\n    return [v1[0, i] - v2[0, i] for i in range(len(v1[0]))]\n    \n\n\n# helper function that returns the linear coordinates of a vector expressed in a given basis by multiplying the vector by the inverse matrix\ndef express_v_in_basis(basis,vector):\n    bm = matrix(basis)\n    vm = matrix([vector])\n    return vm * (bm^(-1))\n",
      "metadata": {
        "trusted": true
      },
      "outputs": [],
      "execution_count": null
    },
    {
      "id": "fa9f66b6-81bd-46bd-b056-0490d92169d8",
      "cell_type": "code",
      "source": "# samantha generates a private, good basis \ndef samantha_private_key_creation(n,B,hadamard_bound):\n    b_priv = create_good_basis(n,B,hadamard_bound)\n    return b_priv\n\n\n\n# samantha generates a public, bad basis using a helper function\ndef samantha_public_key_creation(b_priv,n,B,num_ops):\n    return create_bad_basis(n,b_priv,B,num_ops)\n\n\n\n# samantha generates a bad public basis and uses Babai to approx. solve the cvp using her private key for document d. returns the bad public basis and expression of solution s to cvp in terms of bad basis (d_sig)\ndef samantha_sign(b_priv,d,b_pub):\n    s = babai(b_priv, d)\n    d_sig = express_v_in_basis(b_pub,s)\n    return d_sig\n",
      "metadata": {
        "trusted": true
      },
      "outputs": [],
      "execution_count": null
    },
    {
      "id": "fbcd93a7-d964-427e-a686-5759ef0e44d5",
      "cell_type": "code",
      "source": "# victor verifies that the signature is valid by checking that the distance between d and d_sig obeys a given bound\ndef victor_verify(b_pub, d_sig, d, distance_bound): \n    d_sig = matrix(d_sig)\n    b_pub = matrix(b_pub)\n    s = d_sig * b_pub\n    s_minus_d = matrix(subtract_vectors(s,d))\n    distance = s_minus_d.norm()\n    if distance < distance_bound:\n        return True, distance\n    else:\n        return False, distance\n",
      "metadata": {
        "trusted": true
      },
      "outputs": [],
      "execution_count": null
    },
    {
      "id": "27ad7cd4-b1fc-4e1b-943d-155d8d7432f7",
      "cell_type": "code",
      "source": "\n#function putting everything together. takes in a pre-determined b_priv and b_pub for testing purposes.\n\ndef GGH_sign(document,dimension,distance_bound,b_priv,b_pub):\n    d_sig = samantha_sign(b_priv,document,b_pub)\n    valid, distance = victor_verify(b_pub, d_sig, document, distance_bound)[0], victor_verify(b_pub, d_sig, document, distance_bound)[1]\n    if valid:\n        print(d_sig, 'is a valid signature for ', document, 'and the distance between vectors is', distance)\n    else:\n        print('Looks like your signature is invalid! The distance between vectors was:', distance)",
      "metadata": {
        "trusted": true
      },
      "outputs": [],
      "execution_count": null
    },
    {
      "id": "b799ff5c-2e37-4661-a913-f3ad4e279fdb",
      "cell_type": "code",
      "source": "#2-d example from paper\ndistance_bound = 100\n\nv1 = [84,58]\nv2 = [3,-68]\nb_priv = [v1,v2]\n\nv1 = [-363885,-243476]\nv2 = [3279,2194]\nb_pub = [v1, v2]\n\nd = [123,456]\n\nGGH_sign(d, len(d), distance_bound, b_priv, b_pub)\n",
      "metadata": {
        "trusted": true
      },
      "outputs": [],
      "execution_count": null
    },
    {
      "id": "f7cf0ec4-f517-419c-bcd6-cfcf8ec1780c",
      "cell_type": "code",
      "source": "# To run examples, provide public parameters:\n\nhadamard_bound = x\nB = x #range for integer values of entries in b_priv\nn = x #dimension\nnum_ops = x #number of row operations to make when generating the change of basis matrix\nd = [x] #the document vector to be signed\ndistance_bound = x #the upper bound for a signature to be valid on d \n\nb_priv = samantha_private_key_creation(n,B,hadamard_bound)\nprint(\"b_priv is:\", b_priv)\nb_pub = samantha_public_key_creation(b_priv,n,B,num_ops)\nprint(\"b_pub is:\", b_pub)\n\nd_sig = samantha_sign(b_priv,d,b_pub)\nprint(\"d_sig is:\", d_sig)\n\nvalid,distance = victor_verify(b_pub, d_sig, d, distance_bound)[0], victor_verify(b_pub, d_sig, d, distance_bound)[1]\nprint(\"The signature was \", valid, \" and the distance between vectors was \", distance)\n",
      "metadata": {
        "trusted": true
      },
      "outputs": [],
      "execution_count": null
    },
    {
      "id": "d8e5e59a-2790-408d-8990-ad8adb17cc81",
      "cell_type": "code",
      "source": "# the following cells are the code for rejection sampling built into GGH. they require hashlib and random imports. \n\nimport hashlib\nimport random\n\n# assumes the d passed in is already in vector form\ndef hash_document(d):\n    vector_string = ''.join(str(element) for element in d) #turn every element of d into a string and concatenate together\n    vector_string = randomize_d(vector_string)\n    vector_string = vector_string.encode() #encodes string into necessary format for SHA256\n    hashGen = hashlib.sha512()\n    hashGen.update(vector_string)\n    hash = hashGen.hexdigest() #this is a fixed length of 128 characters (512 bit) hexidecimal string\n\n    return hash\n\n# coverts the hash into a vector so that we can perform lattice operations on it\ndef hash_to_vector(hashed_d, d, num_bytes):\n    m = 2*num_bytes\n    dimension = len(d)\n\n    if 128 > m*dimension: #hash too long, truncate\n        hashed_d = hashed_d[:m*dimension]\n    else: #hash too short, extend\n        bytes_to_add = 128 - m*dimension\n        bits_to_add = (8*m)*bytes_to_add\n        random_hexadecimal = '%0x' % random.getrandbits(bits_to_add)\n        hashed_d = random_hexadecimal + hashed_d\n    \n    hashed_vector = [int(hashed_d[i:i+m], 16) for i in range(0, len(hashed_d), m)]\n  \n    return hashed_vector\n    \n# generates a random number to concatenate to d to randomize 1\ndef randomize_d(d):\n    num = random.randint(int(d),int(d)**4)\n    d = d + str(num)\n    return d\n",
      "metadata": {
        "trusted": true
      },
      "outputs": [],
      "execution_count": 1
    },
    {
      "id": "7f98fdee-f742-4fc8-8958-0ce6f379ea07",
      "cell_type": "code",
      "source": "# modified signing so that it requires that s-d falls into the common region defined by the rejection_sample_bound (side length of common box)\ndef modified_samantha_sign(b_priv,b_pub , d,rejection_sample_bound,num_bytes):\n    count = 0\n    while True:  \n        hashed_d = hash_document(d)\n        hashed_vector = hash_to_vector(hashed_d, d,num_bytes)\n        s = babai(b_priv, hashed_vector)\n        s_minus_d = subtract_vectors(s,hashed_vector)\n        if check_rejection_sample(s_minus_d,rejection_sample_bound):\n            d_sig = express_v_in_basis(b_pub,s)\n            print(\"Tried \", count, \"signatures before finding one.\")\n            return d_sig, hashed_vector\n        count = count + 1\n\n\n\n# checks whether each entry in vector s-d is within the bound or not\ndef check_rejection_sample(s_minus_d, bound):\n    for entry in s_minus_d:\n        if abs(entry) > 0.5*bound:\n            return False # returns false if any of the entries do not fall in region\n    return True\n\n",
      "metadata": {
        "trusted": true
      },
      "outputs": [],
      "execution_count": 2
    },
    {
      "id": "b9a5f760-f221-4365-9ec4-8e4ce11384fd",
      "cell_type": "code",
      "source": "#rejection sampling using the 2-d example in paper\n\nv1 = [84, 58]\nv2 = [3,  -68]\nb_priv = [v1,v2]\n\nv1 = [-363885,-243476]\nv2 = [3279,2194]\nb_pub = [v1, v2]\n\nd = [123,456]\n\nrejection_bound = 1\n\nnum_bytes = 2 # values 0 to 65,535\n\nd_sig,hashed_vector = modified_samantha_sign(b_priv,b_pub, d, rejection_bound, num_bytes)\n\nprint(\"The signature that met the condition was \", d_sig, \"and the hashed version of the document vector used was \", hashed_vector)\n",
      "metadata": {
        "trusted": true
      },
      "outputs": [
        {
          "ename": "<class 'NameError'>",
          "evalue": "name 'babai' is not defined",
          "traceback": [
            "\u001b[31m---------------------------------------------------------------------------\u001b[39m",
            "\u001b[31mNameError\u001b[39m                                 Traceback (most recent call last)",
            "\u001b[36mCell\u001b[39m\u001b[36m \u001b[39m\u001b[32mIn[3]\u001b[39m\u001b[32m, line 17\u001b[39m\n\u001b[32m     13\u001b[39m rejection_bound = \u001b[32m1\u001b[39m\n\u001b[32m     15\u001b[39m num_bytes = \u001b[32m2\u001b[39m \u001b[38;5;66;03m# values 0 to 65,535\u001b[39;00m\n\u001b[32m---> \u001b[39m\u001b[32m17\u001b[39m d_sig,hashed_vector = \u001b[43mmodified_samantha_sign\u001b[49m\u001b[43m(\u001b[49m\u001b[43mb_priv\u001b[49m\u001b[43m,\u001b[49m\u001b[43mb_pub\u001b[49m\u001b[43m,\u001b[49m\u001b[43m \u001b[49m\u001b[43md\u001b[49m\u001b[43m,\u001b[49m\u001b[43m \u001b[49m\u001b[43mrejection_bound\u001b[49m\u001b[43m,\u001b[49m\u001b[43m \u001b[49m\u001b[43mnum_bytes\u001b[49m\u001b[43m)\u001b[49m\n\u001b[32m     19\u001b[39m \u001b[38;5;28mprint\u001b[39m(\u001b[33m\"\u001b[39m\u001b[33mThe signature that met the condition was \u001b[39m\u001b[33m\"\u001b[39m, d_sig, \u001b[33m\"\u001b[39m\u001b[33mand the hashed version of the document vector used was \u001b[39m\u001b[33m\"\u001b[39m, hashed_vector)\n",
            "\u001b[36mCell\u001b[39m\u001b[36m \u001b[39m\u001b[32mIn[2]\u001b[39m\u001b[32m, line 7\u001b[39m, in \u001b[36mmodified_samantha_sign\u001b[39m\u001b[34m(b_priv, b_pub, d, rejection_sample_bound, num_bytes)\u001b[39m\n\u001b[32m      5\u001b[39m hashed_d = hash_document(d)\n\u001b[32m      6\u001b[39m hashed_vector = hash_to_vector(hashed_d, d,num_bytes)\n\u001b[32m----> \u001b[39m\u001b[32m7\u001b[39m s = \u001b[43mbabai\u001b[49m(b_priv, hashed_vector)\n\u001b[32m      8\u001b[39m s_minus_d = subtract_vectors(s,hashed_vector)\n\u001b[32m      9\u001b[39m \u001b[38;5;28;01mif\u001b[39;00m check_rejection_sample(s_minus_d,rejection_sample_bound):\n",
            "\u001b[31mNameError\u001b[39m: name 'babai' is not defined"
          ],
          "output_type": "error"
        }
      ],
      "execution_count": 3
    },
    {
      "id": "187b2883-c142-4e71-9384-c3eac65236ca",
      "cell_type": "code",
      "source": "\n# To try rejection sampling, provide parameters: (note that i couldnt't get it to run fast enough for dimensions higher than ~4. choose high rejection bounds (100+) if you want it to return)\n\nb_priv = [x] # can use create_good_basis(n,B,hadamard_bound)\nb_pub = [x]# can use create_bad_basis(n,b_priv,B,num_ops)\nd = [x] #document vector\nrejection_sample_bound = x\nnum_bytes = x # number of bytes you want in each entry of the vector\n\nd_sig,hashed_vector = modified_samantha_sign(b_priv, b_pub, d, rejection_sample_bound, num_bytes)\n\nprint(\"The signature that met the condition was \", d_sig, \"and the hashed version of the document vector used was \", hashed_vector)\n\n\n",
      "metadata": {
        "trusted": true
      },
      "outputs": [],
      "execution_count": null
    },
    {
      "id": "c30b5a54-17c5-4c02-b9b1-5d93ffe00ab3",
      "cell_type": "code",
      "source": "",
      "metadata": {
        "trusted": true
      },
      "outputs": [],
      "execution_count": null
    }
  ]
}
